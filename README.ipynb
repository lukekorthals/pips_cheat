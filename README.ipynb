{
 "cells": [
  {
   "attachments": {},
   "cell_type": "markdown",
   "metadata": {},
   "source": [
    "# pips_cheat\n",
    "Published as part of coursework for the 3rd week assignment of the programming in psychological science course.\n",
    "\n",
    "Contains one function cheat() that can be used to get the solutions for assignment questions.\n",
    "Currently supports the following questions:\n",
    "- \"Q1.2P.1\"\n",
    "- \"Q1.2P.4\"\n",
    "- \"Q2.2P.1\"\n",
    "- \"Q3.2P.1\"\n",
    "\n",
    "# Installation\n",
    "```python\n",
    "pip install git+https://github.com/lukekorthals/pips_cheat\n",
    "``` \n",
    "\n",
    "# How to use\n",
    "Call the function with a supported question ID (e.g., \"Q3.2P.1\") and you will receive the correct solution. "
   ]
  },
  {
   "cell_type": "code",
   "execution_count": 1,
   "metadata": {},
   "outputs": [
    {
     "name": "stdout",
     "output_type": "stream",
     "text": [
      "Solution for Q3.2P.1:\n",
      "1. make sure you have seaborn installed and loaded with import seaborn as sns \n",
      "2. import seaborn as sns, \n",
      "3. generate random uniform data with dat = np.random.uniform(-10, 10, 1000) \n",
      "4. create the boxplot with plt.boxplot(dat) \n",
      "5. create the violinplot with sns.violinplot(dat) \n",
      "6. add points to the violinplot with sns.stripplot(dat, color='white') \n",
      "7. save the plot with plt.savefig('random_violinplot.png') \n",
      "8. show the plot with plt.show()\n",
      "\n"
     ]
    }
   ],
   "source": [
    "from pips_cheat import cheat\n",
    "cheat(\"Q3.2P.1\")"
   ]
  }
 ],
 "metadata": {
  "kernelspec": {
   "display_name": "base",
   "language": "python",
   "name": "python3"
  },
  "language_info": {
   "codemirror_mode": {
    "name": "ipython",
    "version": 3
   },
   "file_extension": ".py",
   "mimetype": "text/x-python",
   "name": "python",
   "nbconvert_exporter": "python",
   "pygments_lexer": "ipython3",
   "version": "3.9.13"
  },
  "orig_nbformat": 4,
  "vscode": {
   "interpreter": {
    "hash": "2817e5a963fe39eff03cb95cdc8f572ee2f2e1817bf2ac4532382cdfef8588ff"
   }
  }
 },
 "nbformat": 4,
 "nbformat_minor": 2
}
